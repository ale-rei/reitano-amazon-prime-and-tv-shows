{
 "cells": [
  {
   "cell_type": "markdown",
   "metadata": {},
   "source": [
    "# Alessio Reitano - 0001005384"
   ]
  },
  {
   "cell_type": "code",
   "execution_count": 257,
   "metadata": {},
   "outputs": [],
   "source": [
    "# Imports\n",
    "import warnings\n",
    "warnings.filterwarnings('ignore')\n",
    "import pandas as pd\n",
    "import numpy as np\n",
    "import seaborn as sns\n",
    "import matplotlib.pyplot as plt\n",
    "from sklearn.preprocessing import OneHotEncoder, OrdinalEncoder\n",
    "from sklearn.compose import ColumnTransformer\n",
    "from sklearn.preprocessing import MinMaxScaler\n",
    "from sklearn.preprocessing import PowerTransformer\n",
    "\n",
    "# Variables\n",
    "file_name = 'movies_tv_shows.csv'\n",
    "separator = ','\n",
    "random_state = 43\n",
    "\n",
    "# Directives\n",
    "%matplotlib inline\n",
    "plt.rcParams['figure.figsize'] = [10, 6]\n",
    "np.random.seed(random_state)\n",
    "plt.style.use('ggplot')"
   ]
  },
  {
   "cell_type": "code",
   "execution_count": 258,
   "metadata": {},
   "outputs": [],
   "source": [
    "df = pd.read_csv(file_name, sep=separator, encoding = \"ISO-8859-1\") #dataset not in utf-8"
   ]
  },
  {
   "cell_type": "code",
   "execution_count": 259,
   "metadata": {},
   "outputs": [
    {
     "data": {
      "text/plain": [
       "(12035, 13)"
      ]
     },
     "execution_count": 259,
     "metadata": {},
     "output_type": "execute_result"
    }
   ],
   "source": [
    "df.shape"
   ]
  },
  {
   "cell_type": "code",
   "execution_count": 260,
   "metadata": {},
   "outputs": [
    {
     "data": {
      "text/plain": [
       "Index(['Sl.No', 'Title', 'Description', 'Genres', 'Cast', 'Director',\n",
       "       'Production Country', 'Added On', 'Year', 'Text8', 'Duration(in Mins)',\n",
       "       'Season', 'Rating'],\n",
       "      dtype='object')"
      ]
     },
     "execution_count": 260,
     "metadata": {},
     "output_type": "execute_result"
    }
   ],
   "source": [
    "df.columns"
   ]
  },
  {
   "cell_type": "code",
   "execution_count": 261,
   "metadata": {},
   "outputs": [
    {
     "name": "stdout",
     "output_type": "stream",
     "text": [
      "<class 'pandas.core.frame.DataFrame'>\n",
      "RangeIndex: 12035 entries, 0 to 12034\n",
      "Data columns (total 13 columns):\n",
      " #   Column              Non-Null Count  Dtype  \n",
      "---  ------              --------------  -----  \n",
      " 0   Sl.No               12034 non-null  float64\n",
      " 1   Title               12035 non-null  object \n",
      " 2   Description         12035 non-null  object \n",
      " 3   Genres              12035 non-null  object \n",
      " 4   Cast                10533 non-null  object \n",
      " 5   Director            9892 non-null   object \n",
      " 6   Production Country  150 non-null    object \n",
      " 7   Added On            12035 non-null  object \n",
      " 8   Year                12034 non-null  float64\n",
      " 9   Text8               11737 non-null  object \n",
      " 10  Duration(in Mins)   10136 non-null  object \n",
      " 11  Season              1900 non-null   object \n",
      " 12  Rating              937 non-null    object \n",
      "dtypes: float64(2), object(11)\n",
      "memory usage: 1.2+ MB\n"
     ]
    }
   ],
   "source": [
    "df.info()"
   ]
  },
  {
   "cell_type": "code",
   "execution_count": 262,
   "metadata": {},
   "outputs": [
    {
     "data": {
      "text/html": [
       "<div>\n",
       "<style scoped>\n",
       "    .dataframe tbody tr th:only-of-type {\n",
       "        vertical-align: middle;\n",
       "    }\n",
       "\n",
       "    .dataframe tbody tr th {\n",
       "        vertical-align: top;\n",
       "    }\n",
       "\n",
       "    .dataframe thead th {\n",
       "        text-align: right;\n",
       "    }\n",
       "</style>\n",
       "<table border=\"1\" class=\"dataframe\">\n",
       "  <thead>\n",
       "    <tr style=\"text-align: right;\">\n",
       "      <th></th>\n",
       "      <th>Sl.No</th>\n",
       "      <th>Year</th>\n",
       "    </tr>\n",
       "  </thead>\n",
       "  <tbody>\n",
       "    <tr>\n",
       "      <th>count</th>\n",
       "      <td>12034.000000</td>\n",
       "      <td>12034.000000</td>\n",
       "    </tr>\n",
       "    <tr>\n",
       "      <th>mean</th>\n",
       "      <td>6017.500000</td>\n",
       "      <td>2006.731677</td>\n",
       "    </tr>\n",
       "    <tr>\n",
       "      <th>std</th>\n",
       "      <td>3474.060904</td>\n",
       "      <td>22.160818</td>\n",
       "    </tr>\n",
       "    <tr>\n",
       "      <th>min</th>\n",
       "      <td>1.000000</td>\n",
       "      <td>1920.000000</td>\n",
       "    </tr>\n",
       "    <tr>\n",
       "      <th>25%</th>\n",
       "      <td>3009.250000</td>\n",
       "      <td>2006.000000</td>\n",
       "    </tr>\n",
       "    <tr>\n",
       "      <th>50%</th>\n",
       "      <td>6017.500000</td>\n",
       "      <td>2016.000000</td>\n",
       "    </tr>\n",
       "    <tr>\n",
       "      <th>75%</th>\n",
       "      <td>9025.750000</td>\n",
       "      <td>2020.000000</td>\n",
       "    </tr>\n",
       "    <tr>\n",
       "      <th>max</th>\n",
       "      <td>12034.000000</td>\n",
       "      <td>2022.000000</td>\n",
       "    </tr>\n",
       "  </tbody>\n",
       "</table>\n",
       "</div>"
      ],
      "text/plain": [
       "              Sl.No          Year\n",
       "count  12034.000000  12034.000000\n",
       "mean    6017.500000   2006.731677\n",
       "std     3474.060904     22.160818\n",
       "min        1.000000   1920.000000\n",
       "25%     3009.250000   2006.000000\n",
       "50%     6017.500000   2016.000000\n",
       "75%     9025.750000   2020.000000\n",
       "max    12034.000000   2022.000000"
      ]
     },
     "execution_count": 262,
     "metadata": {},
     "output_type": "execute_result"
    }
   ],
   "source": [
    "df.describe()"
   ]
  },
  {
   "cell_type": "code",
   "execution_count": 263,
   "metadata": {},
   "outputs": [
    {
     "name": "stdout",
     "output_type": "stream",
     "text": [
      "Total duplicate values: 0\n"
     ]
    }
   ],
   "source": [
    "print('Total duplicate values: {}'.format(df.duplicated().sum()))"
   ]
  },
  {
   "cell_type": "code",
   "execution_count": 264,
   "metadata": {},
   "outputs": [
    {
     "data": {
      "text/plain": [
       "<seaborn.axisgrid.PairGrid at 0x7f828d49b6d0>"
      ]
     },
     "execution_count": 264,
     "metadata": {},
     "output_type": "execute_result"
    },
    {
     "data": {
      "image/png": "[encoded data removed]",
      "text/plain": [
       "<Figure size 500x500 with 6 Axes>"
      ]
     },
     "metadata": {},
     "output_type": "display_data"
    }
   ],
   "source": [
    "sns.pairplot(df)"
   ]
  },
  {
   "cell_type": "code",
   "execution_count": 265,
   "metadata": {},
   "outputs": [
    {
     "data": {
      "text/plain": [
       "<seaborn.axisgrid.FacetGrid at 0x7f829e23f760>"
      ]
     },
     "execution_count": 265,
     "metadata": {},
     "output_type": "execute_result"
    },
    {
     "data": {
      "image/png": "[encoded data removed]",
      "text/plain": [
       "<Figure size 500x500 with 1 Axes>"
      ]
     },
     "metadata": {},
     "output_type": "display_data"
    }
   ],
   "source": [
    "sns.displot(data=df, x = 'Year')"
   ]
  },
  {
   "cell_type": "code",
   "execution_count": 266,
   "metadata": {},
   "outputs": [
    {
     "data": {
      "text/plain": [
       "<AxesSubplot:>"
      ]
     },
     "execution_count": 266,
     "metadata": {},
     "output_type": "execute_result"
    },
    {
     "data": {
      "image/png": "[encoded data removed]",
      "text/plain": [
       "<Figure size 1000x600 with 1 Axes>"
      ]
     },
     "metadata": {},
     "output_type": "display_data"
    }
   ],
   "source": [
    "sns.boxplot(data=df)"
   ]
  },
  {
   "cell_type": "code",
   "execution_count": 267,
   "metadata": {},
   "outputs": [
    {
     "data": {
      "image/png": "[encoded data removed]",
      "text/plain": [
       "<Figure size 1000x600 with 2 Axes>"
      ]
     },
     "metadata": {},
     "output_type": "display_data"
    }
   ],
   "source": [
    "plt.figure()\n",
    "a=sns.heatmap(df.corr(),annot=True)"
   ]
  },
  {
   "cell_type": "code",
   "execution_count": 268,
   "metadata": {},
   "outputs": [
    {
     "data": {
      "text/html": [
       "<div>\n",
       "<style scoped>\n",
       "    .dataframe tbody tr th:only-of-type {\n",
       "        vertical-align: middle;\n",
       "    }\n",
       "\n",
       "    .dataframe tbody tr th {\n",
       "        vertical-align: top;\n",
       "    }\n",
       "\n",
       "    .dataframe thead th {\n",
       "        text-align: right;\n",
       "    }\n",
       "</style>\n",
       "<table border=\"1\" class=\"dataframe\">\n",
       "  <thead>\n",
       "    <tr style=\"text-align: right;\">\n",
       "      <th></th>\n",
       "      <th>Sl.No</th>\n",
       "      <th>Title</th>\n",
       "      <th>Description</th>\n",
       "      <th>Genres</th>\n",
       "      <th>Cast</th>\n",
       "      <th>Director</th>\n",
       "      <th>Production Country</th>\n",
       "      <th>Added On</th>\n",
       "      <th>Year</th>\n",
       "      <th>Text8</th>\n",
       "      <th>Duration(in Mins)</th>\n",
       "      <th>Season</th>\n",
       "      <th>Rating</th>\n",
       "    </tr>\n",
       "  </thead>\n",
       "  <tbody>\n",
       "    <tr>\n",
       "      <th>0</th>\n",
       "      <td>1.0</td>\n",
       "      <td>An American Ghost Story</td>\n",
       "      <td>Paul Anderson (Stephen Twardokus) and his girl...</td>\n",
       "      <td>Horror</td>\n",
       "      <td>Stephen Twardokus, Jon Gale, Liesel Kopp, Wend...</td>\n",
       "      <td>Derek Cole</td>\n",
       "      <td>NaN</td>\n",
       "      <td>June 19, 2022</td>\n",
       "      <td>2012.0</td>\n",
       "      <td>18+</td>\n",
       "      <td>90</td>\n",
       "      <td>NaN</td>\n",
       "      <td>NaN</td>\n",
       "    </tr>\n",
       "    <tr>\n",
       "      <th>1</th>\n",
       "      <td>2.0</td>\n",
       "      <td>Back Door to Heaven</td>\n",
       "      <td>A young kid, who starts out stealing small thi...</td>\n",
       "      <td>Action, Drama</td>\n",
       "      <td>Wallace Ford, Stuart Erwin</td>\n",
       "      <td>William K. Howard</td>\n",
       "      <td>NaN</td>\n",
       "      <td>June 19, 2022</td>\n",
       "      <td>1939.0</td>\n",
       "      <td>7+</td>\n",
       "      <td>84</td>\n",
       "      <td>NaN</td>\n",
       "      <td>NaN</td>\n",
       "    </tr>\n",
       "    <tr>\n",
       "      <th>2</th>\n",
       "      <td>3.0</td>\n",
       "      <td>Big Timers</td>\n",
       "      <td>A wealthy young society man is dating a beauti...</td>\n",
       "      <td>Arts, Entertainment, and Culture, Comedy</td>\n",
       "      <td>Stepin Fetchit, Francine Everett</td>\n",
       "      <td>Bud Pollard</td>\n",
       "      <td>NaN</td>\n",
       "      <td>June 19, 2022</td>\n",
       "      <td>1945.0</td>\n",
       "      <td>7+</td>\n",
       "      <td>36</td>\n",
       "      <td>NaN</td>\n",
       "      <td>NaN</td>\n",
       "    </tr>\n",
       "    <tr>\n",
       "      <th>3</th>\n",
       "      <td>4.0</td>\n",
       "      <td>Brand of the Devil</td>\n",
       "      <td>Jolley is the leader of the Devil's Brand gang...</td>\n",
       "      <td>Western</td>\n",
       "      <td>Dave O'Brien, James Newill</td>\n",
       "      <td>Harry L. Fraser</td>\n",
       "      <td>NaN</td>\n",
       "      <td>June 19, 2022</td>\n",
       "      <td>1944.0</td>\n",
       "      <td>13+</td>\n",
       "      <td>57</td>\n",
       "      <td>NaN</td>\n",
       "      <td>NaN</td>\n",
       "    </tr>\n",
       "    <tr>\n",
       "      <th>4</th>\n",
       "      <td>5.0</td>\n",
       "      <td>Come As You Are</td>\n",
       "      <td>Three young men with disabilities (Grant Rosen...</td>\n",
       "      <td>Comedy, Drama, Romance</td>\n",
       "      <td>Grant Rosenmeyer, Hayden Szeto, Ravi Patel, Ga...</td>\n",
       "      <td>Richard Wong</td>\n",
       "      <td>NaN</td>\n",
       "      <td>June 19, 2022</td>\n",
       "      <td>2019.0</td>\n",
       "      <td>18+</td>\n",
       "      <td>107</td>\n",
       "      <td>NaN</td>\n",
       "      <td>NaN</td>\n",
       "    </tr>\n",
       "  </tbody>\n",
       "</table>\n",
       "</div>"
      ],
      "text/plain": [
       "   Sl.No                    Title  \\\n",
       "0    1.0  An American Ghost Story   \n",
       "1    2.0      Back Door to Heaven   \n",
       "2    3.0               Big Timers   \n",
       "3    4.0       Brand of the Devil   \n",
       "4    5.0          Come As You Are   \n",
       "\n",
       "                                         Description  \\\n",
       "0  Paul Anderson (Stephen Twardokus) and his girl...   \n",
       "1  A young kid, who starts out stealing small thi...   \n",
       "2  A wealthy young society man is dating a beauti...   \n",
       "3  Jolley is the leader of the Devil's Brand gang...   \n",
       "4  Three young men with disabilities (Grant Rosen...   \n",
       "\n",
       "                                     Genres  \\\n",
       "0                                    Horror   \n",
       "1                             Action, Drama   \n",
       "2  Arts, Entertainment, and Culture, Comedy   \n",
       "3                                   Western   \n",
       "4                    Comedy, Drama, Romance   \n",
       "\n",
       "                                                Cast           Director  \\\n",
       "0  Stephen Twardokus, Jon Gale, Liesel Kopp, Wend...         Derek Cole   \n",
       "1                         Wallace Ford, Stuart Erwin  William K. Howard   \n",
       "2                   Stepin Fetchit, Francine Everett        Bud Pollard   \n",
       "3                         Dave O'Brien, James Newill    Harry L. Fraser   \n",
       "4  Grant Rosenmeyer, Hayden Szeto, Ravi Patel, Ga...       Richard Wong   \n",
       "\n",
       "  Production Country       Added On    Year Text8 Duration(in Mins) Season  \\\n",
       "0                NaN  June 19, 2022  2012.0   18+                90    NaN   \n",
       "1                NaN  June 19, 2022  1939.0    7+                84    NaN   \n",
       "2                NaN  June 19, 2022  1945.0    7+                36    NaN   \n",
       "3                NaN  June 19, 2022  1944.0   13+                57    NaN   \n",
       "4                NaN  June 19, 2022  2019.0   18+               107    NaN   \n",
       "\n",
       "  Rating  \n",
       "0    NaN  \n",
       "1    NaN  \n",
       "2    NaN  \n",
       "3    NaN  \n",
       "4    NaN  "
      ]
     },
     "execution_count": 268,
     "metadata": {},
     "output_type": "execute_result"
    }
   ],
   "source": [
    "df.head()"
   ]
  },
  {
   "cell_type": "code",
   "execution_count": 269,
   "metadata": {},
   "outputs": [
    {
     "name": "stdout",
     "output_type": "stream",
     "text": [
      "Drama                        5042\n",
      "Comedy                       2926\n",
      "Action                       2266\n",
      "Suspense                     1940\n",
      "Kids                         1209\n",
      "Horror                       1143\n",
      "Special Interest             1141\n",
      "Documentary                  1089\n",
      "Romance                       873\n",
      "International                 842\n",
      "Entertainment                 695\n",
      "Arts                          695\n",
      "and Culture                   695\n",
      "Animation                     653\n",
      "Science Fiction               544\n",
      "Adventure                     485\n",
      "Western                       356\n",
      "Sports                        213\n",
      "Music Videos and Concerts     202\n",
      "Fantasy                       186\n",
      "Arthouse                      177\n",
      "TV Shows                      145\n",
      "LGBTQ                         145\n",
      "Unscripted                    139\n",
      "Anime                         102\n",
      "Young Adult Audience           92\n",
      "Fitness                        88\n",
      "Faith and Spirituality         85\n",
      "Historical                     74\n",
      "Military and War               71\n",
      "Talk Show and Variety          13\n",
      "Genres                          1\n",
      "Name: Genres, dtype: int64\n"
     ]
    }
   ],
   "source": [
    "# Analizza i generi dei film presenti nel dataset\n",
    "genres = df['Genres'].str.split(',').explode().str.strip()\n",
    "print(genres.value_counts())"
   ]
  },
  {
   "cell_type": "code",
   "execution_count": 270,
   "metadata": {},
   "outputs": [
    {
     "name": "stdout",
     "output_type": "stream",
     "text": [
      "6.6       37\n",
      "6.7       37\n",
      "5.9       33\n",
      "6.9       32\n",
      "6.2       32\n",
      "          ..\n",
      "Rating     1\n",
      "3.3        1\n",
      "2.6        1\n",
      "2.0        1\n",
      "2.8        1\n",
      "Name: Rating, Length: 67, dtype: int64\n"
     ]
    }
   ],
   "source": [
    "# Analizza le valutazioni dei film\n",
    "ratings = df['Rating'].value_counts()\n",
    "print(ratings)"
   ]
  },
  {
   "cell_type": "code",
   "execution_count": 271,
   "metadata": {},
   "outputs": [
    {
     "name": "stdout",
     "output_type": "stream",
     "text": [
      "Maggie Binkley    61\n",
      "1                 60\n",
      "Roy Rogers        50\n",
      "Prakash Raj       38\n",
      "Gene Autry        37\n",
      "                  ..\n",
      "Harry Singh        1\n",
      "Sudhir Nema        1\n",
      "Nawab              1\n",
      "Sanjay Swaraj      1\n",
      "Andrew Asper       1\n",
      "Name: Cast, Length: 36890, dtype: int64\n",
      "Mark Knight              115\n",
      "Cannis Holder             62\n",
      "Moonbug Entertainment     41\n",
      "Joseph Kane               40\n",
      "Jay Chapman               34\n",
      "                        ... \n",
      "Shree Jayadrath            1\n",
      "Irene Zoe Alameda          1\n",
      "Hooroo Jackson             1\n",
      "PRATIM D. GUPTA            1\n",
      "Glenn Miller               1\n",
      "Name: Director, Length: 7384, dtype: int64\n"
     ]
    }
   ],
   "source": [
    "# Analizza il cast e il regista dei film\n",
    "cast = df['Cast'].str.split(',').explode().str.strip()\n",
    "directors = df['Director'].str.split(',').explode().str.strip()\n",
    "print(cast.value_counts())\n",
    "print(directors.value_counts())"
   ]
  },
  {
   "cell_type": "code",
   "execution_count": 272,
   "metadata": {},
   "outputs": [],
   "source": [
    "col_to_drop=[\"Sl.No\",\"Description\",\"Production Country\",\"Added On\",\"Season\",\"Rating\"]\n",
    "df1 = df.drop(col_to_drop,axis=1)"
   ]
  },
  {
   "cell_type": "code",
   "execution_count": 273,
   "metadata": {},
   "outputs": [
    {
     "name": "stdout",
     "output_type": "stream",
     "text": [
      "Duplicates removed\n"
     ]
    },
    {
     "data": {
      "text/plain": [
       "(11384, 7)"
      ]
     },
     "execution_count": 273,
     "metadata": {},
     "output_type": "execute_result"
    }
   ],
   "source": [
    "df1 = df1.drop_duplicates([\"Title\"])\n",
    "print(\"Duplicates removed\")\n",
    "df1.shape"
   ]
  },
  {
   "cell_type": "code",
   "execution_count": 274,
   "metadata": {},
   "outputs": [
    {
     "data": {
      "text/plain": [
       "Title                11384\n",
       "Genres                 626\n",
       "Cast                  9255\n",
       "Director              6835\n",
       "Year                   102\n",
       "Text8                   24\n",
       "Duration(in Mins)      208\n",
       "dtype: int64"
      ]
     },
     "execution_count": 274,
     "metadata": {},
     "output_type": "execute_result"
    }
   ],
   "source": [
    "df1.nunique()"
   ]
  },
  {
   "cell_type": "code",
   "execution_count": 275,
   "metadata": {},
   "outputs": [
    {
     "data": {
      "text/plain": [
       "Title                   0\n",
       "Genres                  0\n",
       "Cast                 1464\n",
       "Director             2079\n",
       "Year                    1\n",
       "Text8                 284\n",
       "Duration(in Mins)    1837\n",
       "dtype: int64"
      ]
     },
     "execution_count": 275,
     "metadata": {},
     "output_type": "execute_result"
    }
   ],
   "source": [
    "df1.isna().sum()"
   ]
  },
  {
   "cell_type": "code",
   "execution_count": 276,
   "metadata": {},
   "outputs": [],
   "source": [
    "df1.dropna(inplace=True)"
   ]
  },
  {
   "cell_type": "code",
   "execution_count": 277,
   "metadata": {},
   "outputs": [],
   "source": [
    "df1.rename(columns={'Text8':'Rating'},inplace=True)"
   ]
  },
  {
   "cell_type": "code",
   "execution_count": 278,
   "metadata": {},
   "outputs": [],
   "source": [
    "df1[\"Duration(in Mins)\"] = pd.to_numeric(df1[\"Duration(in Mins)\"])"
   ]
  },
  {
   "cell_type": "code",
   "execution_count": 279,
   "metadata": {},
   "outputs": [
    {
     "data": {
      "text/plain": [
       "(8169, 7)"
      ]
     },
     "execution_count": 279,
     "metadata": {},
     "output_type": "execute_result"
    }
   ],
   "source": [
    "df1.shape"
   ]
  },
  {
   "cell_type": "code",
   "execution_count": 280,
   "metadata": {},
   "outputs": [
    {
     "data": {
      "text/html": [
       "<div>\n",
       "<style scoped>\n",
       "    .dataframe tbody tr th:only-of-type {\n",
       "        vertical-align: middle;\n",
       "    }\n",
       "\n",
       "    .dataframe tbody tr th {\n",
       "        vertical-align: top;\n",
       "    }\n",
       "\n",
       "    .dataframe thead th {\n",
       "        text-align: right;\n",
       "    }\n",
       "</style>\n",
       "<table border=\"1\" class=\"dataframe\">\n",
       "  <thead>\n",
       "    <tr style=\"text-align: right;\">\n",
       "      <th></th>\n",
       "      <th>Title</th>\n",
       "      <th>Genres</th>\n",
       "      <th>Cast</th>\n",
       "      <th>Director</th>\n",
       "      <th>Year</th>\n",
       "      <th>Rating</th>\n",
       "      <th>Duration(in Mins)</th>\n",
       "    </tr>\n",
       "  </thead>\n",
       "  <tbody>\n",
       "    <tr>\n",
       "      <th>0</th>\n",
       "      <td>An American Ghost Story</td>\n",
       "      <td>Horror</td>\n",
       "      <td>Stephen Twardokus, Jon Gale, Liesel Kopp, Wend...</td>\n",
       "      <td>Derek Cole</td>\n",
       "      <td>2012.0</td>\n",
       "      <td>18+</td>\n",
       "      <td>90</td>\n",
       "    </tr>\n",
       "    <tr>\n",
       "      <th>1</th>\n",
       "      <td>Back Door to Heaven</td>\n",
       "      <td>Action, Drama</td>\n",
       "      <td>Wallace Ford, Stuart Erwin</td>\n",
       "      <td>William K. Howard</td>\n",
       "      <td>1939.0</td>\n",
       "      <td>7+</td>\n",
       "      <td>84</td>\n",
       "    </tr>\n",
       "    <tr>\n",
       "      <th>2</th>\n",
       "      <td>Big Timers</td>\n",
       "      <td>Arts, Entertainment, and Culture, Comedy</td>\n",
       "      <td>Stepin Fetchit, Francine Everett</td>\n",
       "      <td>Bud Pollard</td>\n",
       "      <td>1945.0</td>\n",
       "      <td>7+</td>\n",
       "      <td>36</td>\n",
       "    </tr>\n",
       "    <tr>\n",
       "      <th>3</th>\n",
       "      <td>Brand of the Devil</td>\n",
       "      <td>Western</td>\n",
       "      <td>Dave O'Brien, James Newill</td>\n",
       "      <td>Harry L. Fraser</td>\n",
       "      <td>1944.0</td>\n",
       "      <td>13+</td>\n",
       "      <td>57</td>\n",
       "    </tr>\n",
       "    <tr>\n",
       "      <th>4</th>\n",
       "      <td>Come As You Are</td>\n",
       "      <td>Comedy, Drama, Romance</td>\n",
       "      <td>Grant Rosenmeyer, Hayden Szeto, Ravi Patel, Ga...</td>\n",
       "      <td>Richard Wong</td>\n",
       "      <td>2019.0</td>\n",
       "      <td>18+</td>\n",
       "      <td>107</td>\n",
       "    </tr>\n",
       "  </tbody>\n",
       "</table>\n",
       "</div>"
      ],
      "text/plain": [
       "                     Title                                    Genres  \\\n",
       "0  An American Ghost Story                                    Horror   \n",
       "1      Back Door to Heaven                             Action, Drama   \n",
       "2               Big Timers  Arts, Entertainment, and Culture, Comedy   \n",
       "3       Brand of the Devil                                   Western   \n",
       "4          Come As You Are                    Comedy, Drama, Romance   \n",
       "\n",
       "                                                Cast           Director  \\\n",
       "0  Stephen Twardokus, Jon Gale, Liesel Kopp, Wend...         Derek Cole   \n",
       "1                         Wallace Ford, Stuart Erwin  William K. Howard   \n",
       "2                   Stepin Fetchit, Francine Everett        Bud Pollard   \n",
       "3                         Dave O'Brien, James Newill    Harry L. Fraser   \n",
       "4  Grant Rosenmeyer, Hayden Szeto, Ravi Patel, Ga...       Richard Wong   \n",
       "\n",
       "     Year Rating  Duration(in Mins)  \n",
       "0  2012.0    18+                 90  \n",
       "1  1939.0     7+                 84  \n",
       "2  1945.0     7+                 36  \n",
       "3  1944.0    13+                 57  \n",
       "4  2019.0    18+                107  "
      ]
     },
     "execution_count": 280,
     "metadata": {},
     "output_type": "execute_result"
    }
   ],
   "source": [
    "df1.head()"
   ]
  },
  {
   "cell_type": "code",
   "execution_count": 281,
   "metadata": {},
   "outputs": [
    {
     "data": {
      "text/plain": [
       "Title                 object\n",
       "Genres                object\n",
       "Cast                  object\n",
       "Director              object\n",
       "Year                 float64\n",
       "Rating                object\n",
       "Duration(in Mins)      int64\n",
       "dtype: object"
      ]
     },
     "execution_count": 281,
     "metadata": {},
     "output_type": "execute_result"
    }
   ],
   "source": [
    "df1.dtypes"
   ]
  },
  {
   "cell_type": "code",
   "execution_count": 282,
   "metadata": {},
   "outputs": [
    {
     "data": {
      "text/plain": [
       "13+         2041\n",
       "16+         1540\n",
       "18+         1413\n",
       "R            956\n",
       "ALL          564\n",
       "PG-13        504\n",
       "7+           478\n",
       "NR           283\n",
       "PG           276\n",
       "G             73\n",
       "UNRATED       32\n",
       "NOT_RATE       4\n",
       "AGES_18_       2\n",
       "NC-17          2\n",
       "16             1\n",
       "Name: Rating, dtype: int64"
      ]
     },
     "execution_count": 282,
     "metadata": {},
     "output_type": "execute_result"
    }
   ],
   "source": [
    "rating_count = df1[\"Rating\"].value_counts()\n",
    "rating_count "
   ]
  },
  {
   "cell_type": "code",
   "execution_count": 283,
   "metadata": {},
   "outputs": [
    {
     "data": {
      "text/plain": [
       "array([18,  7, 13, -1,  0, 16, 17])"
      ]
     },
     "execution_count": 283,
     "metadata": {},
     "output_type": "execute_result"
    }
   ],
   "source": [
    "def mergeRating(i):\n",
    "    if i in [\"G\", \"ALL\", \"ALL_AGES\"]:\n",
    "        return 0\n",
    "    elif i in [\"7+\"]:\n",
    "        return 7\n",
    "    elif i in [\"13+\", \"PG-13\"]:\n",
    "        return 13\n",
    "    elif i in [\"16+\", \"16\"]:\n",
    "        return 16\n",
    "    elif i in [\"NC-17\"]:\n",
    "        return 17\n",
    "    elif i in [\"18+\", \"AGES_18_\", \"R\"]:\n",
    "        return 18\n",
    "    elif i in [\"NR\", 'UNRATED', 'NOT_RATE', \"PG\"]:\n",
    "        return -1\n",
    "    return i\n",
    "\n",
    "df1[\"Rating\"] = df1[\"Rating\"].apply( mergeRating )\n",
    "\n",
    "df1[\"Rating\"].unique()"
   ]
  },
  {
   "cell_type": "code",
   "execution_count": 284,
   "metadata": {},
   "outputs": [
    {
     "data": {
      "text/plain": [
       "<AxesSubplot:xlabel='Rating', ylabel='count'>"
      ]
     },
     "execution_count": 284,
     "metadata": {},
     "output_type": "execute_result"
    },
    {
     "data": {
      "image/png": "[encoded data removed]",
      "text/plain": [
       "<Figure size 1000x600 with 1 Axes>"
      ]
     },
     "metadata": {},
     "output_type": "display_data"
    }
   ],
   "source": [
    "sns.countplot(data=df1, x='Rating') "
   ]
  },
  {
   "cell_type": "code",
   "execution_count": 285,
   "metadata": {},
   "outputs": [],
   "source": [
    "df1['Genres'] = df1['Genres'].apply(lambda x: x.split(',')[0])\n",
    "df1['My_Genres'] = df1['Genres']\n",
    "df2 = df1.drop([\"Genres\"],axis=1)"
   ]
  },
  {
   "cell_type": "code",
   "execution_count": 286,
   "metadata": {},
   "outputs": [
    {
     "data": {
      "text/plain": [
       "array(['Horror', 'Action', 'Arts', 'Western', 'Comedy', 'Documentary',\n",
       "       'Drama', 'Science Fiction', 'Fantasy', 'Arthouse', 'Suspense',\n",
       "       'Romance', 'Kids', 'Animation', 'Military and War', 'Adventure',\n",
       "       'Special Interest', 'Historical', 'Faith and Spirituality',\n",
       "       'International', 'Anime', 'Unscripted', 'Sports',\n",
       "       'Music Videos and Concerts', 'LGBTQ', 'Fitness',\n",
       "       'Young Adult Audience'], dtype=object)"
      ]
     },
     "execution_count": 286,
     "metadata": {},
     "output_type": "execute_result"
    }
   ],
   "source": [
    "df2['My_Genres'].unique()"
   ]
  },
  {
   "cell_type": "code",
   "execution_count": 287,
   "metadata": {},
   "outputs": [
    {
     "data": {
      "text/html": [
       "<div>\n",
       "<style scoped>\n",
       "    .dataframe tbody tr th:only-of-type {\n",
       "        vertical-align: middle;\n",
       "    }\n",
       "\n",
       "    .dataframe tbody tr th {\n",
       "        vertical-align: top;\n",
       "    }\n",
       "\n",
       "    .dataframe thead th {\n",
       "        text-align: right;\n",
       "    }\n",
       "</style>\n",
       "<table border=\"1\" class=\"dataframe\">\n",
       "  <thead>\n",
       "    <tr style=\"text-align: right;\">\n",
       "      <th></th>\n",
       "      <th>Title</th>\n",
       "      <th>Cast</th>\n",
       "      <th>Director</th>\n",
       "      <th>Year</th>\n",
       "      <th>Rating</th>\n",
       "      <th>Duration(in Mins)</th>\n",
       "      <th>My_Genres</th>\n",
       "    </tr>\n",
       "  </thead>\n",
       "  <tbody>\n",
       "    <tr>\n",
       "      <th>0</th>\n",
       "      <td>An American Ghost Story</td>\n",
       "      <td>Stephen Twardokus, Jon Gale, Liesel Kopp, Wend...</td>\n",
       "      <td>Derek Cole</td>\n",
       "      <td>2012.0</td>\n",
       "      <td>18</td>\n",
       "      <td>90</td>\n",
       "      <td>Horror</td>\n",
       "    </tr>\n",
       "    <tr>\n",
       "      <th>1</th>\n",
       "      <td>Back Door to Heaven</td>\n",
       "      <td>Wallace Ford, Stuart Erwin</td>\n",
       "      <td>William K. Howard</td>\n",
       "      <td>1939.0</td>\n",
       "      <td>7</td>\n",
       "      <td>84</td>\n",
       "      <td>Action</td>\n",
       "    </tr>\n",
       "    <tr>\n",
       "      <th>2</th>\n",
       "      <td>Big Timers</td>\n",
       "      <td>Stepin Fetchit, Francine Everett</td>\n",
       "      <td>Bud Pollard</td>\n",
       "      <td>1945.0</td>\n",
       "      <td>7</td>\n",
       "      <td>36</td>\n",
       "      <td>Arts</td>\n",
       "    </tr>\n",
       "    <tr>\n",
       "      <th>3</th>\n",
       "      <td>Brand of the Devil</td>\n",
       "      <td>Dave O'Brien, James Newill</td>\n",
       "      <td>Harry L. Fraser</td>\n",
       "      <td>1944.0</td>\n",
       "      <td>13</td>\n",
       "      <td>57</td>\n",
       "      <td>Western</td>\n",
       "    </tr>\n",
       "    <tr>\n",
       "      <th>4</th>\n",
       "      <td>Come As You Are</td>\n",
       "      <td>Grant Rosenmeyer, Hayden Szeto, Ravi Patel, Ga...</td>\n",
       "      <td>Richard Wong</td>\n",
       "      <td>2019.0</td>\n",
       "      <td>18</td>\n",
       "      <td>107</td>\n",
       "      <td>Comedy</td>\n",
       "    </tr>\n",
       "  </tbody>\n",
       "</table>\n",
       "</div>"
      ],
      "text/plain": [
       "                     Title                                               Cast  \\\n",
       "0  An American Ghost Story  Stephen Twardokus, Jon Gale, Liesel Kopp, Wend...   \n",
       "1      Back Door to Heaven                         Wallace Ford, Stuart Erwin   \n",
       "2               Big Timers                   Stepin Fetchit, Francine Everett   \n",
       "3       Brand of the Devil                         Dave O'Brien, James Newill   \n",
       "4          Come As You Are  Grant Rosenmeyer, Hayden Szeto, Ravi Patel, Ga...   \n",
       "\n",
       "            Director    Year  Rating  Duration(in Mins) My_Genres  \n",
       "0         Derek Cole  2012.0      18                 90    Horror  \n",
       "1  William K. Howard  1939.0       7                 84    Action  \n",
       "2        Bud Pollard  1945.0       7                 36      Arts  \n",
       "3    Harry L. Fraser  1944.0      13                 57   Western  \n",
       "4       Richard Wong  2019.0      18                107    Comedy  "
      ]
     },
     "execution_count": 287,
     "metadata": {},
     "output_type": "execute_result"
    }
   ],
   "source": [
    "df2.head()"
   ]
  },
  {
   "cell_type": "code",
   "execution_count": 288,
   "metadata": {},
   "outputs": [
    {
     "data": {
      "text/plain": [
       "7710"
      ]
     },
     "execution_count": 288,
     "metadata": {},
     "output_type": "execute_result"
    }
   ],
   "source": [
    "df2['Cast'].unique().size"
   ]
  },
  {
   "cell_type": "code",
   "execution_count": 289,
   "metadata": {},
   "outputs": [
    {
     "data": {
      "text/plain": [
       "6234"
      ]
     },
     "execution_count": 289,
     "metadata": {},
     "output_type": "execute_result"
    }
   ],
   "source": [
    "df2['Director'].unique().size"
   ]
  },
  {
   "cell_type": "code",
   "execution_count": 290,
   "metadata": {},
   "outputs": [
    {
     "name": "stdout",
     "output_type": "stream",
     "text": [
      "The non-numeric features are:\n",
      "['Title' 'Cast' 'Director' 'My_Genres']\n"
     ]
    }
   ],
   "source": [
    "categorical_features = df2.dtypes.loc[df1.dtypes == 'object'].index.values\n",
    "print(\"The non-numeric features are:\")\n",
    "print(categorical_features)"
   ]
  },
  {
   "cell_type": "code",
   "execution_count": 291,
   "metadata": {},
   "outputs": [
    {
     "name": "stdout",
     "output_type": "stream",
     "text": [
      "The numeric features are:\n",
      "['Duration(in Mins)', 'Rating', 'Year']\n"
     ]
    }
   ],
   "source": [
    "numeric_features = list(set(df2.dtypes.index.values)-set(categorical_features))\n",
    "print(\"The numeric features are:\")\n",
    "print(numeric_features)"
   ]
  },
  {
   "cell_type": "code",
   "execution_count": 292,
   "metadata": {},
   "outputs": [
    {
     "name": "stdout",
     "output_type": "stream",
     "text": [
      "The categorical features are:\n",
      "['Cast', 'Title', 'My_Genres', 'Director']\n"
     ]
    }
   ],
   "source": [
    "categorical_features = list(set(categorical_features))\n",
    "print(\"The categorical features are:\")\n",
    "print(categorical_features)"
   ]
  },
  {
   "cell_type": "code",
   "execution_count": 294,
   "metadata": {},
   "outputs": [],
   "source": [
    "transf_dtype = np.int32\n",
    "\n",
    "categorical_transformer = OneHotEncoder(handle_unknown='ignore'\n",
    "                                        , sparse = False\n",
    "                                        , dtype = transf_dtype)\n",
    "ordinal_transformer = OrdinalEncoder(dtype = transf_dtype)\n",
    "preprocessor = ColumnTransformer(\n",
    "    transformers = [('cat', categorical_transformer, categorical_features),\n",
    "                    ('ord', ordinal_transformer, numeric_features)\n",
    "                   ],\n",
    "                    remainder = 'passthrough'\n",
    "    )\n",
    "df2_p = preprocessor.fit_transform(df2)"
   ]
  },
  {
   "cell_type": "code",
   "execution_count": 295,
   "metadata": {},
   "outputs": [
    {
     "data": {
      "text/html": [
       "<div>\n",
       "<style scoped>\n",
       "    .dataframe tbody tr th:only-of-type {\n",
       "        vertical-align: middle;\n",
       "    }\n",
       "\n",
       "    .dataframe tbody tr th {\n",
       "        vertical-align: top;\n",
       "    }\n",
       "\n",
       "    .dataframe thead th {\n",
       "        text-align: right;\n",
       "    }\n",
       "</style>\n",
       "<table border=\"1\" class=\"dataframe\">\n",
       "  <thead>\n",
       "    <tr style=\"text-align: right;\">\n",
       "      <th></th>\n",
       "      <th>0</th>\n",
       "      <th>1</th>\n",
       "      <th>2</th>\n",
       "      <th>3</th>\n",
       "      <th>4</th>\n",
       "      <th>5</th>\n",
       "      <th>6</th>\n",
       "      <th>7</th>\n",
       "      <th>8</th>\n",
       "      <th>9</th>\n",
       "      <th>...</th>\n",
       "      <th>22133</th>\n",
       "      <th>22134</th>\n",
       "      <th>22135</th>\n",
       "      <th>22136</th>\n",
       "      <th>22137</th>\n",
       "      <th>22138</th>\n",
       "      <th>22139</th>\n",
       "      <th>22140</th>\n",
       "      <th>22141</th>\n",
       "      <th>22142</th>\n",
       "    </tr>\n",
       "  </thead>\n",
       "  <tbody>\n",
       "    <tr>\n",
       "      <th>0</th>\n",
       "      <td>0</td>\n",
       "      <td>0</td>\n",
       "      <td>0</td>\n",
       "      <td>0</td>\n",
       "      <td>0</td>\n",
       "      <td>0</td>\n",
       "      <td>0</td>\n",
       "      <td>0</td>\n",
       "      <td>0</td>\n",
       "      <td>0</td>\n",
       "      <td>...</td>\n",
       "      <td>0</td>\n",
       "      <td>0</td>\n",
       "      <td>0</td>\n",
       "      <td>0</td>\n",
       "      <td>0</td>\n",
       "      <td>0</td>\n",
       "      <td>0</td>\n",
       "      <td>90</td>\n",
       "      <td>6</td>\n",
       "      <td>91</td>\n",
       "    </tr>\n",
       "    <tr>\n",
       "      <th>1</th>\n",
       "      <td>0</td>\n",
       "      <td>0</td>\n",
       "      <td>0</td>\n",
       "      <td>0</td>\n",
       "      <td>0</td>\n",
       "      <td>0</td>\n",
       "      <td>0</td>\n",
       "      <td>0</td>\n",
       "      <td>0</td>\n",
       "      <td>0</td>\n",
       "      <td>...</td>\n",
       "      <td>0</td>\n",
       "      <td>0</td>\n",
       "      <td>0</td>\n",
       "      <td>0</td>\n",
       "      <td>0</td>\n",
       "      <td>0</td>\n",
       "      <td>0</td>\n",
       "      <td>84</td>\n",
       "      <td>2</td>\n",
       "      <td>18</td>\n",
       "    </tr>\n",
       "    <tr>\n",
       "      <th>2</th>\n",
       "      <td>0</td>\n",
       "      <td>0</td>\n",
       "      <td>0</td>\n",
       "      <td>0</td>\n",
       "      <td>0</td>\n",
       "      <td>0</td>\n",
       "      <td>0</td>\n",
       "      <td>0</td>\n",
       "      <td>0</td>\n",
       "      <td>0</td>\n",
       "      <td>...</td>\n",
       "      <td>0</td>\n",
       "      <td>0</td>\n",
       "      <td>0</td>\n",
       "      <td>0</td>\n",
       "      <td>0</td>\n",
       "      <td>0</td>\n",
       "      <td>0</td>\n",
       "      <td>36</td>\n",
       "      <td>2</td>\n",
       "      <td>24</td>\n",
       "    </tr>\n",
       "    <tr>\n",
       "      <th>3</th>\n",
       "      <td>0</td>\n",
       "      <td>0</td>\n",
       "      <td>0</td>\n",
       "      <td>0</td>\n",
       "      <td>0</td>\n",
       "      <td>0</td>\n",
       "      <td>0</td>\n",
       "      <td>0</td>\n",
       "      <td>0</td>\n",
       "      <td>0</td>\n",
       "      <td>...</td>\n",
       "      <td>0</td>\n",
       "      <td>0</td>\n",
       "      <td>0</td>\n",
       "      <td>0</td>\n",
       "      <td>0</td>\n",
       "      <td>0</td>\n",
       "      <td>0</td>\n",
       "      <td>57</td>\n",
       "      <td>3</td>\n",
       "      <td>23</td>\n",
       "    </tr>\n",
       "    <tr>\n",
       "      <th>4</th>\n",
       "      <td>0</td>\n",
       "      <td>0</td>\n",
       "      <td>0</td>\n",
       "      <td>0</td>\n",
       "      <td>0</td>\n",
       "      <td>0</td>\n",
       "      <td>0</td>\n",
       "      <td>0</td>\n",
       "      <td>0</td>\n",
       "      <td>0</td>\n",
       "      <td>...</td>\n",
       "      <td>0</td>\n",
       "      <td>0</td>\n",
       "      <td>0</td>\n",
       "      <td>0</td>\n",
       "      <td>0</td>\n",
       "      <td>0</td>\n",
       "      <td>0</td>\n",
       "      <td>107</td>\n",
       "      <td>6</td>\n",
       "      <td>98</td>\n",
       "    </tr>\n",
       "    <tr>\n",
       "      <th>...</th>\n",
       "      <td>...</td>\n",
       "      <td>...</td>\n",
       "      <td>...</td>\n",
       "      <td>...</td>\n",
       "      <td>...</td>\n",
       "      <td>...</td>\n",
       "      <td>...</td>\n",
       "      <td>...</td>\n",
       "      <td>...</td>\n",
       "      <td>...</td>\n",
       "      <td>...</td>\n",
       "      <td>...</td>\n",
       "      <td>...</td>\n",
       "      <td>...</td>\n",
       "      <td>...</td>\n",
       "      <td>...</td>\n",
       "      <td>...</td>\n",
       "      <td>...</td>\n",
       "      <td>...</td>\n",
       "      <td>...</td>\n",
       "      <td>...</td>\n",
       "    </tr>\n",
       "    <tr>\n",
       "      <th>8164</th>\n",
       "      <td>0</td>\n",
       "      <td>0</td>\n",
       "      <td>0</td>\n",
       "      <td>0</td>\n",
       "      <td>0</td>\n",
       "      <td>0</td>\n",
       "      <td>0</td>\n",
       "      <td>0</td>\n",
       "      <td>0</td>\n",
       "      <td>0</td>\n",
       "      <td>...</td>\n",
       "      <td>0</td>\n",
       "      <td>0</td>\n",
       "      <td>0</td>\n",
       "      <td>0</td>\n",
       "      <td>0</td>\n",
       "      <td>0</td>\n",
       "      <td>0</td>\n",
       "      <td>18</td>\n",
       "      <td>1</td>\n",
       "      <td>93</td>\n",
       "    </tr>\n",
       "    <tr>\n",
       "      <th>8165</th>\n",
       "      <td>0</td>\n",
       "      <td>0</td>\n",
       "      <td>0</td>\n",
       "      <td>0</td>\n",
       "      <td>0</td>\n",
       "      <td>0</td>\n",
       "      <td>0</td>\n",
       "      <td>0</td>\n",
       "      <td>0</td>\n",
       "      <td>0</td>\n",
       "      <td>...</td>\n",
       "      <td>0</td>\n",
       "      <td>0</td>\n",
       "      <td>0</td>\n",
       "      <td>0</td>\n",
       "      <td>0</td>\n",
       "      <td>0</td>\n",
       "      <td>0</td>\n",
       "      <td>9</td>\n",
       "      <td>1</td>\n",
       "      <td>95</td>\n",
       "    </tr>\n",
       "    <tr>\n",
       "      <th>8166</th>\n",
       "      <td>0</td>\n",
       "      <td>0</td>\n",
       "      <td>0</td>\n",
       "      <td>0</td>\n",
       "      <td>0</td>\n",
       "      <td>0</td>\n",
       "      <td>0</td>\n",
       "      <td>0</td>\n",
       "      <td>0</td>\n",
       "      <td>0</td>\n",
       "      <td>...</td>\n",
       "      <td>0</td>\n",
       "      <td>0</td>\n",
       "      <td>0</td>\n",
       "      <td>0</td>\n",
       "      <td>0</td>\n",
       "      <td>0</td>\n",
       "      <td>0</td>\n",
       "      <td>86</td>\n",
       "      <td>6</td>\n",
       "      <td>28</td>\n",
       "    </tr>\n",
       "    <tr>\n",
       "      <th>8167</th>\n",
       "      <td>0</td>\n",
       "      <td>0</td>\n",
       "      <td>0</td>\n",
       "      <td>0</td>\n",
       "      <td>0</td>\n",
       "      <td>0</td>\n",
       "      <td>0</td>\n",
       "      <td>0</td>\n",
       "      <td>0</td>\n",
       "      <td>0</td>\n",
       "      <td>...</td>\n",
       "      <td>0</td>\n",
       "      <td>0</td>\n",
       "      <td>0</td>\n",
       "      <td>0</td>\n",
       "      <td>0</td>\n",
       "      <td>0</td>\n",
       "      <td>0</td>\n",
       "      <td>104</td>\n",
       "      <td>6</td>\n",
       "      <td>97</td>\n",
       "    </tr>\n",
       "    <tr>\n",
       "      <th>8168</th>\n",
       "      <td>0</td>\n",
       "      <td>0</td>\n",
       "      <td>0</td>\n",
       "      <td>0</td>\n",
       "      <td>0</td>\n",
       "      <td>0</td>\n",
       "      <td>0</td>\n",
       "      <td>0</td>\n",
       "      <td>0</td>\n",
       "      <td>0</td>\n",
       "      <td>...</td>\n",
       "      <td>0</td>\n",
       "      <td>0</td>\n",
       "      <td>0</td>\n",
       "      <td>0</td>\n",
       "      <td>0</td>\n",
       "      <td>0</td>\n",
       "      <td>0</td>\n",
       "      <td>87</td>\n",
       "      <td>3</td>\n",
       "      <td>95</td>\n",
       "    </tr>\n",
       "  </tbody>\n",
       "</table>\n",
       "<p>8169 rows × 22143 columns</p>\n",
       "</div>"
      ],
      "text/plain": [
       "      0      1      2      3      4      5      6      7      8      9      \\\n",
       "0         0      0      0      0      0      0      0      0      0      0   \n",
       "1         0      0      0      0      0      0      0      0      0      0   \n",
       "2         0      0      0      0      0      0      0      0      0      0   \n",
       "3         0      0      0      0      0      0      0      0      0      0   \n",
       "4         0      0      0      0      0      0      0      0      0      0   \n",
       "...     ...    ...    ...    ...    ...    ...    ...    ...    ...    ...   \n",
       "8164      0      0      0      0      0      0      0      0      0      0   \n",
       "8165      0      0      0      0      0      0      0      0      0      0   \n",
       "8166      0      0      0      0      0      0      0      0      0      0   \n",
       "8167      0      0      0      0      0      0      0      0      0      0   \n",
       "8168      0      0      0      0      0      0      0      0      0      0   \n",
       "\n",
       "      ...  22133  22134  22135  22136  22137  22138  22139  22140  22141  \\\n",
       "0     ...      0      0      0      0      0      0      0     90      6   \n",
       "1     ...      0      0      0      0      0      0      0     84      2   \n",
       "2     ...      0      0      0      0      0      0      0     36      2   \n",
       "3     ...      0      0      0      0      0      0      0     57      3   \n",
       "4     ...      0      0      0      0      0      0      0    107      6   \n",
       "...   ...    ...    ...    ...    ...    ...    ...    ...    ...    ...   \n",
       "8164  ...      0      0      0      0      0      0      0     18      1   \n",
       "8165  ...      0      0      0      0      0      0      0      9      1   \n",
       "8166  ...      0      0      0      0      0      0      0     86      6   \n",
       "8167  ...      0      0      0      0      0      0      0    104      6   \n",
       "8168  ...      0      0      0      0      0      0      0     87      3   \n",
       "\n",
       "      22142  \n",
       "0        91  \n",
       "1        18  \n",
       "2        24  \n",
       "3        23  \n",
       "4        98  \n",
       "...     ...  \n",
       "8164     93  \n",
       "8165     95  \n",
       "8166     28  \n",
       "8167     97  \n",
       "8168     95  \n",
       "\n",
       "[8169 rows x 22143 columns]"
      ]
     },
     "execution_count": 295,
     "metadata": {},
     "output_type": "execute_result"
    }
   ],
   "source": [
    "#pd.Dataframe transform ndarray into pandas dataframe\n",
    "df_p = pd.DataFrame(df2_p)\n",
    "df_p"
   ]
  },
  {
   "cell_type": "code",
   "execution_count": null,
   "metadata": {},
   "outputs": [],
   "source": []
  }
 ],
 "metadata": {
  "kernelspec": {
   "display_name": "Python 3 (ipykernel)",
   "language": "python",
   "name": "python3"
  },
  "language_info": {
   "codemirror_mode": {
    "name": "ipython",
    "version": 3
   },
   "file_extension": ".py",
   "mimetype": "text/x-python",
   "name": "python",
   "nbconvert_exporter": "python",
   "pygments_lexer": "ipython3",
   "version": "3.9.13"
  },
  "vscode": {
   "interpreter": {
    "hash": "31f2aee4e71d21fbe5cf8b01ff0e069b9275f58929596ceb00d14d90e3e16cd6"
   }
  }
 },
 "nbformat": 4,
 "nbformat_minor": 2
}
